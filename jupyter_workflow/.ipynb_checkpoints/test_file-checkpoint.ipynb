{
 "cells": [
  {
   "cell_type": "code",
   "execution_count": 2,
   "metadata": {
    "collapsed": true
   },
   "outputs": [],
   "source": [
    "import plotly.offline as py\n",
    "import pandas as pd\n",
    "import requests, json\n",
    "from wetagging_machine import Wetagging"
   ]
  },
  {
   "cell_type": "code",
   "execution_count": 3,
   "metadata": {},
   "outputs": [],
   "source": [
    "data01 = pd.read_excel(r\"C:\\Users\\85442\\Desktop\\省市區整理.xlsx\",sheetname='Sheet1',keep_default_na = True)"
   ]
  },
  {
   "cell_type": "code",
   "execution_count": 4,
   "metadata": {},
   "outputs": [
    {
     "data": {
      "text/html": [
       "<div>\n",
       "<table border=\"1\" class=\"dataframe\">\n",
       "  <thead>\n",
       "    <tr style=\"text-align: right;\">\n",
       "      <th></th>\n",
       "      <th>citycode</th>\n",
       "      <th>name</th>\n",
       "    </tr>\n",
       "  </thead>\n",
       "  <tbody>\n",
       "    <tr>\n",
       "      <th>0</th>\n",
       "      <td>NaN</td>\n",
       "      <td>东沙群岛</td>\n",
       "    </tr>\n",
       "    <tr>\n",
       "      <th>1</th>\n",
       "      <td>999.0</td>\n",
       "      <td>濮阳市</td>\n",
       "    </tr>\n",
       "    <tr>\n",
       "      <th>2</th>\n",
       "      <td>999.0</td>\n",
       "      <td>濮阳市</td>\n",
       "    </tr>\n",
       "  </tbody>\n",
       "</table>\n",
       "</div>"
      ],
      "text/plain": [
       "   citycode  name\n",
       "0       NaN  东沙群岛\n",
       "1     999.0   濮阳市\n",
       "2     999.0   濮阳市"
      ]
     },
     "execution_count": 4,
     "metadata": {},
     "output_type": "execute_result"
    }
   ],
   "source": [
    "data01.head(3)"
   ]
  },
  {
   "cell_type": "code",
   "execution_count": 11,
   "metadata": {},
   "outputs": [
    {
     "name": "stdout",
     "output_type": "stream",
     "text": [
      "规则对应的标签数量情况:\n",
      "----------------------------------------------------------------------------\n"
     ]
    },
    {
     "data": {
      "text/html": [
       "<div>\n",
       "<table border=\"1\" class=\"dataframe\">\n",
       "  <thead>\n",
       "    <tr style=\"text-align: right;\">\n",
       "      <th></th>\n",
       "      <th>正在处理字段</th>\n",
       "      <th>标签</th>\n",
       "      <th>正在处理规则</th>\n",
       "      <th>数量</th>\n",
       "      <th>累计值</th>\n",
       "    </tr>\n",
       "  </thead>\n",
       "  <tbody>\n",
       "    <tr>\n",
       "      <th>0</th>\n",
       "      <td>区域</td>\n",
       "      <td>市区</td>\n",
       "      <td>(frame['name'].str.contains('河源|珠海'))</td>\n",
       "      <td>16.0</td>\n",
       "      <td>16.0</td>\n",
       "    </tr>\n",
       "    <tr>\n",
       "      <th>1</th>\n",
       "      <td>区域</td>\n",
       "      <td>大于700</td>\n",
       "      <td>(frame['citycode']&gt;=700)</td>\n",
       "      <td>22.0</td>\n",
       "      <td>38.0</td>\n",
       "    </tr>\n",
       "    <tr>\n",
       "      <th>2</th>\n",
       "      <td>else值</td>\n",
       "      <td>未知</td>\n",
       "      <td></td>\n",
       "      <td>31.0</td>\n",
       "      <td>69.0</td>\n",
       "    </tr>\n",
       "  </tbody>\n",
       "</table>\n",
       "</div>"
      ],
      "text/plain": [
       "  正在处理字段     标签                                 正在处理规则    数量   累计值\n",
       "0     区域     市区  (frame['name'].str.contains('河源|珠海'))  16.0  16.0\n",
       "1     区域  大于700               (frame['citycode']>=700)  22.0  38.0\n",
       "2  else值     未知                                         31.0  69.0"
      ]
     },
     "metadata": {},
     "output_type": "display_data"
    },
    {
     "name": "stdout",
     "output_type": "stream",
     "text": [
      "----------------------------------------------------------------------------\n"
     ]
    },
    {
     "data": {
      "text/html": [
       "<script>requirejs.config({paths: { 'plotly': ['https://cdn.plot.ly/plotly-latest.min']},});if(!window.Plotly) {{require(['plotly'],function(plotly) {window.Plotly=plotly;});}}</script>"
      ],
      "text/vnd.plotly.v1+html": [
       "<script>requirejs.config({paths: { 'plotly': ['https://cdn.plot.ly/plotly-latest.min']},});if(!window.Plotly) {{require(['plotly'],function(plotly) {window.Plotly=plotly;});}}</script>"
      ]
     },
     "metadata": {},
     "output_type": "display_data"
    },
    {
     "data": {
      "application/vnd.plotly.v1+json": {
       "data": [
        {
         "link": {
          "source": [
           0,
           1,
           2,
           3,
           4,
           5,
           5,
           6,
           7,
           8,
           9
          ],
          "target": [
           10,
           11,
           10,
           10,
           10,
           11,
           12,
           12,
           12,
           10,
           11
          ],
          "value": [
           1,
           4,
           3,
           3,
           10,
           3,
           5,
           7,
           4,
           14,
           15
          ]
         },
         "node": {
          "color": [
           "green",
           "green",
           "green",
           "green",
           "green",
           "green",
           "green",
           "green",
           "green",
           "green",
           "green",
           "green",
           "green"
          ],
          "label": [
           "citycode_空白",
           "999.0",
           "395.0",
           "376.0",
           "396.0",
           "752.0",
           "660.0",
           "763.0",
           "473.0",
           "1909.0",
           "未知",
           "大于700",
           "市区"
          ],
          "line": {
           "width": 0.5
          },
          "pad": 16,
          "thickness": 50
         },
         "type": "sankey"
        }
       ],
       "layout": {
        "font": {
         "size": 13
        },
        "title": "citycode - 区域"
       }
      },
      "text/html": [
       "<div id=\"ef5e3ae6-5dbd-4f99-9688-67cc0c77baff\" style=\"height: 525px; width: 100%;\" class=\"plotly-graph-div\"></div><script type=\"text/javascript\">require([\"plotly\"], function(Plotly) { window.PLOTLYENV=window.PLOTLYENV || {};window.PLOTLYENV.BASE_URL=\"https://plotly.your-company.com\";Plotly.newPlot(\"ef5e3ae6-5dbd-4f99-9688-67cc0c77baff\", [{\"type\": \"sankey\", \"node\": {\"pad\": 16, \"thickness\": 50, \"line\": {\"width\": 0.5}, \"label\": [\"citycode_\\u7a7a\\u767d\", \"999.0\", \"395.0\", \"376.0\", \"396.0\", \"752.0\", \"660.0\", \"763.0\", \"473.0\", \"1909.0\", \"\\u672a\\u77e5\", \"\\u5927\\u4e8e700\", \"\\u5e02\\u533a\"], \"color\": [\"green\", \"green\", \"green\", \"green\", \"green\", \"green\", \"green\", \"green\", \"green\", \"green\", \"green\", \"green\", \"green\"]}, \"link\": {\"source\": [0, 1, 2, 3, 4, 5, 5, 6, 7, 8, 9], \"target\": [10, 11, 10, 10, 10, 11, 12, 12, 12, 10, 11], \"value\": [1, 4, 3, 3, 10, 3, 5, 7, 4, 14, 15]}}], {\"title\": \"citycode - \\u533a\\u57df\", \"font\": {\"size\": 13}}, {\"showLink\": true, \"linkText\": \"Export to plotly.your-company.com\"})});</script>"
      ],
      "text/vnd.plotly.v1+html": [
       "<div id=\"ef5e3ae6-5dbd-4f99-9688-67cc0c77baff\" style=\"height: 525px; width: 100%;\" class=\"plotly-graph-div\"></div><script type=\"text/javascript\">require([\"plotly\"], function(Plotly) { window.PLOTLYENV=window.PLOTLYENV || {};window.PLOTLYENV.BASE_URL=\"https://plotly.your-company.com\";Plotly.newPlot(\"ef5e3ae6-5dbd-4f99-9688-67cc0c77baff\", [{\"type\": \"sankey\", \"node\": {\"pad\": 16, \"thickness\": 50, \"line\": {\"width\": 0.5}, \"label\": [\"citycode_\\u7a7a\\u767d\", \"999.0\", \"395.0\", \"376.0\", \"396.0\", \"752.0\", \"660.0\", \"763.0\", \"473.0\", \"1909.0\", \"\\u672a\\u77e5\", \"\\u5927\\u4e8e700\", \"\\u5e02\\u533a\"], \"color\": [\"green\", \"green\", \"green\", \"green\", \"green\", \"green\", \"green\", \"green\", \"green\", \"green\", \"green\", \"green\", \"green\"]}, \"link\": {\"source\": [0, 1, 2, 3, 4, 5, 5, 6, 7, 8, 9], \"target\": [10, 11, 10, 10, 10, 11, 12, 12, 12, 10, 11], \"value\": [1, 4, 3, 3, 10, 3, 5, 7, 4, 14, 15]}}], {\"title\": \"citycode - \\u533a\\u57df\", \"font\": {\"size\": 13}}, {\"showLink\": true, \"linkText\": \"Export to plotly.your-company.com\"})});</script>"
      ]
     },
     "metadata": {},
     "output_type": "display_data"
    },
    {
     "data": {
      "text/html": [
       "<script>requirejs.config({paths: { 'plotly': ['https://cdn.plot.ly/plotly-latest.min']},});if(!window.Plotly) {{require(['plotly'],function(plotly) {window.Plotly=plotly;});}}</script>"
      ],
      "text/vnd.plotly.v1+html": [
       "<script>requirejs.config({paths: { 'plotly': ['https://cdn.plot.ly/plotly-latest.min']},});if(!window.Plotly) {{require(['plotly'],function(plotly) {window.Plotly=plotly;});}}</script>"
      ]
     },
     "metadata": {},
     "output_type": "display_data"
    },
    {
     "data": {
      "application/vnd.plotly.v1+json": {
       "data": [
        {
         "link": {
          "source": [
           0,
           1,
           1,
           2,
           3,
           3,
           4,
           5,
           6,
           6,
           7,
           8
          ],
          "target": [
           9,
           10,
           9,
           9,
           9,
           10,
           11,
           11,
           9,
           10,
           10,
           10
          ],
          "value": [
           7,
           4,
           1,
           9,
           6,
           3,
           8,
           8,
           8,
           1,
           7,
           7
          ]
         },
         "node": {
          "color": [
           "green",
           "green",
           "green",
           "green",
           "green",
           "green",
           "green",
           "green",
           "green",
           "green",
           "green",
           "green"
          ],
          "label": [
           "东沙群岛",
           "濮阳市",
           "许昌市",
           "新乡市",
           "珠海市",
           "河源市",
           "阿拉善盟",
           "伊春市",
           "黑河市",
           "未知",
           "大于700",
           "市区"
          ],
          "line": {
           "width": 0.5
          },
          "pad": 16,
          "thickness": 50
         },
         "type": "sankey"
        }
       ],
       "layout": {
        "font": {
         "size": 13
        },
        "title": "name - 区域"
       }
      },
      "text/html": [
       "<div id=\"5570a5cc-143b-4c82-a478-af7c5e910467\" style=\"height: 525px; width: 100%;\" class=\"plotly-graph-div\"></div><script type=\"text/javascript\">require([\"plotly\"], function(Plotly) { window.PLOTLYENV=window.PLOTLYENV || {};window.PLOTLYENV.BASE_URL=\"https://plotly.your-company.com\";Plotly.newPlot(\"5570a5cc-143b-4c82-a478-af7c5e910467\", [{\"type\": \"sankey\", \"node\": {\"pad\": 16, \"thickness\": 50, \"line\": {\"width\": 0.5}, \"label\": [\"\\u4e1c\\u6c99\\u7fa4\\u5c9b\", \"\\u6fee\\u9633\\u5e02\", \"\\u8bb8\\u660c\\u5e02\", \"\\u65b0\\u4e61\\u5e02\", \"\\u73e0\\u6d77\\u5e02\", \"\\u6cb3\\u6e90\\u5e02\", \"\\u963f\\u62c9\\u5584\\u76df\", \"\\u4f0a\\u6625\\u5e02\", \"\\u9ed1\\u6cb3\\u5e02\", \"\\u672a\\u77e5\", \"\\u5927\\u4e8e700\", \"\\u5e02\\u533a\"], \"color\": [\"green\", \"green\", \"green\", \"green\", \"green\", \"green\", \"green\", \"green\", \"green\", \"green\", \"green\", \"green\"]}, \"link\": {\"source\": [0, 1, 1, 2, 3, 3, 4, 5, 6, 6, 7, 8], \"target\": [9, 10, 9, 9, 9, 10, 11, 11, 9, 10, 10, 10], \"value\": [7, 4, 1, 9, 6, 3, 8, 8, 8, 1, 7, 7]}}], {\"title\": \"name - \\u533a\\u57df\", \"font\": {\"size\": 13}}, {\"showLink\": true, \"linkText\": \"Export to plotly.your-company.com\"})});</script>"
      ],
      "text/vnd.plotly.v1+html": [
       "<div id=\"5570a5cc-143b-4c82-a478-af7c5e910467\" style=\"height: 525px; width: 100%;\" class=\"plotly-graph-div\"></div><script type=\"text/javascript\">require([\"plotly\"], function(Plotly) { window.PLOTLYENV=window.PLOTLYENV || {};window.PLOTLYENV.BASE_URL=\"https://plotly.your-company.com\";Plotly.newPlot(\"5570a5cc-143b-4c82-a478-af7c5e910467\", [{\"type\": \"sankey\", \"node\": {\"pad\": 16, \"thickness\": 50, \"line\": {\"width\": 0.5}, \"label\": [\"\\u4e1c\\u6c99\\u7fa4\\u5c9b\", \"\\u6fee\\u9633\\u5e02\", \"\\u8bb8\\u660c\\u5e02\", \"\\u65b0\\u4e61\\u5e02\", \"\\u73e0\\u6d77\\u5e02\", \"\\u6cb3\\u6e90\\u5e02\", \"\\u963f\\u62c9\\u5584\\u76df\", \"\\u4f0a\\u6625\\u5e02\", \"\\u9ed1\\u6cb3\\u5e02\", \"\\u672a\\u77e5\", \"\\u5927\\u4e8e700\", \"\\u5e02\\u533a\"], \"color\": [\"green\", \"green\", \"green\", \"green\", \"green\", \"green\", \"green\", \"green\", \"green\", \"green\", \"green\", \"green\"]}, \"link\": {\"source\": [0, 1, 1, 2, 3, 3, 4, 5, 6, 6, 7, 8], \"target\": [9, 10, 9, 9, 9, 10, 11, 11, 9, 10, 10, 10], \"value\": [7, 4, 1, 9, 6, 3, 8, 8, 8, 1, 7, 7]}}], {\"title\": \"name - \\u533a\\u57df\", \"font\": {\"size\": 13}}, {\"showLink\": true, \"linkText\": \"Export to plotly.your-company.com\"})});</script>"
      ]
     },
     "metadata": {},
     "output_type": "display_data"
    }
   ],
   "source": [
    "# for i in ['00002.txt']:\n",
    "frame = Wetagging(data01,'00002.txt',debug=True).summary()"
   ]
  }
 ],
 "metadata": {
  "kernelspec": {
   "display_name": "Python 3",
   "language": "python",
   "name": "python3"
  },
  "language_info": {
   "codemirror_mode": {
    "name": "ipython",
    "version": 3
   },
   "file_extension": ".py",
   "mimetype": "text/x-python",
   "name": "python",
   "nbconvert_exporter": "python",
   "pygments_lexer": "ipython3",
   "version": "3.6.1"
  }
 },
 "nbformat": 4,
 "nbformat_minor": 2
}
