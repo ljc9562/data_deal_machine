{
 "cells": [
  {
   "cell_type": "code",
   "execution_count": 1,
   "metadata": {
    "collapsed": true
   },
   "outputs": [],
   "source": [
    "import pandas as pd\n",
    "import os\n",
    "os.chdir(r'C:\\\\Users\\\\Administrator\\\\PycharmProjects\\\\untitled1\\\\data_deal_machine')\n",
    "from pydata_deal_machine.wetagging_machine import Wetagging\n",
    "from pydata_deal_machine.welookup_machine import welookup\n",
    "from pydata_deal_machine.wetagging_machine import Wetagging,Wetagging_create"
   ]
  },
  {
   "cell_type": "code",
   "execution_count": null,
   "metadata": {
    "collapsed": true
   },
   "outputs": [],
   "source": [
    "data = "
   ]
  },
  {
   "cell_type": "code",
   "execution_count": null,
   "metadata": {},
   "outputs": [
    {
     "name": "stdout",
     "output_type": "stream",
     "text": [
      "re配置文件:00007.txt.txt 创建成功\n"
     ]
    }
   ],
   "source": [
    "Wetagging_create('re','00007')"
   ]
  }
 ],
 "metadata": {
  "kernelspec": {
   "display_name": "Python 3",
   "language": "python",
   "name": "python3"
  },
  "language_info": {
   "codemirror_mode": {
    "name": "ipython",
    "version": 3
   },
   "file_extension": ".py",
   "mimetype": "text/x-python",
   "name": "python",
   "nbconvert_exporter": "python",
   "pygments_lexer": "ipython3",
   "version": "3.6.1"
  }
 },
 "nbformat": 4,
 "nbformat_minor": 2
}
