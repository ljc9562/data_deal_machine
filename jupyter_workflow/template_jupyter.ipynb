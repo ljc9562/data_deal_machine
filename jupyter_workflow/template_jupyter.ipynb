{
 "cells": [
  {
   "cell_type": "code",
   "execution_count": null,
   "metadata": {
    "collapsed": true
   },
   "outputs": [],
   "source": [
    "import pandas as pd\n",
    "import os\n",
    "# os.chdir(r'C:\\\\Users\\\\Administrator\\\\PycharmProjects\\\\untitled1\\\\data_deal_machine')\n",
    "os.chdir('您的工作路径,设置 *.\\data_deal_machine 下')\n",
    "from pydata_deal_machine.wetagging_machine import Wetagging\n",
    "from pydata_deal_machine.welookup_machine import welookup\n",
    "from pydata_deal_machine.wetagging_machine import Wetagging,Wetagging_create"
   ]
  }
 ],
 "metadata": {
  "kernelspec": {
   "display_name": "Python 2",
   "language": "python",
   "name": "python2"
  },
  "language_info": {
   "codemirror_mode": {
    "name": "ipython",
    "version": 2
   },
   "file_extension": ".py",
   "mimetype": "text/x-python",
   "name": "python",
   "nbconvert_exporter": "python",
   "pygments_lexer": "ipython2",
   "version": "2.7.6"
  }
 },
 "nbformat": 4,
 "nbformat_minor": 0
}
