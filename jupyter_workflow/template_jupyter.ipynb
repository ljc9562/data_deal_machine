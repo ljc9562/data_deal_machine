{
 "cells": [
  {
   "cell_type": "code",
   "execution_count": 1,
   "metadata": {
    "collapsed": true
   },
   "outputs": [],
   "source": [
    "import pandas as pd\n",
    "import os\n",
    "os.chdir(r'Z:\\\\automation\\\\data_deal_machine')\n",
    "from sqlalchemy import create_engine\n",
    "#防止CMD运行时报错\n",
    "sys.path.append(r'Z:\\automation')\n",
    "sys.path.append(r'Z:\\automation\\data_deal_machine')\n",
    "# os.chdir('您的工作路径,设置 *.\\data_deal_machine 下')\n",
    "from pydata_deal_machine.wetagging_machine import Wetagging\n",
    "from pydata_deal_machine.welookup_machine import welookup\n",
    "from pydata_deal_machine.wetagging_machine import Wetagging,Wetagging_create\n",
    "\n",
    "#加密版总表h5  解密版h5\n",
    "##  pd.read_hdf(r\"F:\\temp\\automation\\new_tot_table\\output\\tot_data.h5\") #解密版\n",
    "##  pd.read_hdf(r\"F:\\temp\\automation\\new_tot_table\\output\\tot_encryption_data.h5\") #加密版\n",
    "\n",
    "# soure_data = pd.read_excel(io = ,sheetname = ,converters={},keep_default_na = True)  #io 是路径  sheetname 是工作簿的位置或者名称  converters 确定字段的类型\n",
    "# soure_data = pd.read_csv(io = ,converters={})  \n",
    "# soure_data = pd.read_hdf(path_or_buf =  )  #路径\n",
    "\n",
    "# result = Wetagging(data,'标签配置文件名.txt',debug=False).summary()     #debug模式True 是不返回frame，False会返回打好标签的Dataframe"
   ]
  }
 ],
 "metadata": {
  "kernelspec": {
   "display_name": "Python 3",
   "language": "python",
   "name": "python3"
  },
  "language_info": {
   "codemirror_mode": {
    "name": "ipython",
    "version": 3
   },
   "file_extension": ".py",
   "mimetype": "text/x-python",
   "name": "python",
   "nbconvert_exporter": "python",
   "pygments_lexer": "ipython3",
   "version": "3.6.1"
  }
 },
 "nbformat": 4,
 "nbformat_minor": 1
}
